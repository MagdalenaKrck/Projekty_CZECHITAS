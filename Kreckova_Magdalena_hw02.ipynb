{
 "cells": [
  {
   "cell_type": "code",
   "execution_count": 4,
   "metadata": {},
   "outputs": [],
   "source": [
    "import pandas as pd\n",
    "import json\n",
    "\n",
    "# Načtení souboru TSV se zdvojenými zpětnými lomítky\n",
    "file_path = 'C:\\\\Users\\\\magda\\\\Documents\\\\___DA_DATA\\\\Python\\\\HW2\\\\netflix_titles.tsv'\n",
    "df = pd.read_csv(file_path, sep='\\t', header=None)\n",
    "# oddělovač tabulátor (\\t), protože soubor je ve formátu TSV (Tab Separated Values). sep='\\t' určuje, že jednotlivé sloupce jsou odděleny tabulátory\n"
   ]
  },
  {
   "cell_type": "code",
   "execution_count": 5,
   "metadata": {},
   "outputs": [
    {
     "name": "stdout",
     "output_type": "stream",
     "text": [
      "      TCONST TITLETYPE             PRIMARYTITLE            ORIGINALTITLE  \\\n",
      "0  tt0164334     movie      Along Came a Spider      Along Came a Spider   \n",
      "1  tt0120484     movie             The Waterboy             The Waterboy   \n",
      "2  tt0118436  tvSeries      Power Rangers Turbo      Power Rangers Turbo   \n",
      "3  tt0138563     movie          Kurt & Courtney          Kurt & Courtney   \n",
      "4  tt0243655     movie  Wet Hot American Summer  Wet Hot American Summer   \n",
      "\n",
      "   ISADULT  STARTYEAR  ENDYEAR  RUNTIMEMINUTES                   GENRES  \\\n",
      "0        0       2001      NaN           104.0           Drama,Thriller   \n",
      "1        0       1998      NaN            90.0             Comedy,Sport   \n",
      "2        0       1997   1998.0            30.0  Action,Adventure,Family   \n",
      "3        0       1998      NaN            95.0  Crime,Documentary,Music   \n",
      "4        0       2001      NaN            97.0           Comedy,Romance   \n",
      "\n",
      "   AVERAGERATING  ...                    TITLE         DIRECTOR  \\\n",
      "0            6.4  ...      Along Came a Spider     Lee Tamahori   \n",
      "1            6.1  ...             The Waterboy     Frank Coraci   \n",
      "2            5.7  ...      Power Rangers Turbo              NaN   \n",
      "3            6.1  ...          Kurt & Courtney  Nick Broomfield   \n",
      "4            6.6  ...  Wet Hot American Summer       David Wain   \n",
      "\n",
      "                                                CAST  \\\n",
      "0  Morgan Freeman, Monica Potter, Michael Wincott...   \n",
      "1  Adam Sandler, Kathy Bates, Henry Winkler, Fair...   \n",
      "2  Johnny Yong Bosch, Nakia Burrise, Blake Foster...   \n",
      "3                         Kurt Cobain, Courtney Love   \n",
      "4  Janeane Garofalo, David Hyde Pierce, Michael S...   \n",
      "\n",
      "                          COUNTRY       DATE_ADDED RELEASE_YEAR    RATING  \\\n",
      "0  United States, Germany, Canada  October 1, 2019         2001         R   \n",
      "1                   United States    March 8, 2017         1998     PG-13   \n",
      "2    United States, France, Japan  January 1, 2016         1997  TV-Y7-FV   \n",
      "3                  United Kingdom  January 8, 2019         1998         R   \n",
      "4                   United States    March 1, 2019         2001         R   \n",
      "\n",
      "   DURATION                                  LISTED_IN  \\\n",
      "0   103 min                                  Thrillers   \n",
      "1    90 min                    Comedies, Sports Movies   \n",
      "2  1 Season                                   Kids' TV   \n",
      "3    95 min            Documentaries, Music & Musicals   \n",
      "4    98 min  Comedies, Cult Movies, Independent Movies   \n",
      "\n",
      "                                         DESCRIPTION  \n",
      "0  When a girl is kidnapped from a prestigious pr...  \n",
      "1  A water boy for a college football team has a ...  \n",
      "2  The Rangers use high-tech battle cars to take ...  \n",
      "3  This film charts Nirvana's Kurt Cobain's rise ...  \n",
      "4  Everyone wants a final shot at action on the l...  \n",
      "\n",
      "[5 rows x 24 columns]\n"
     ]
    }
   ],
   "source": [
    "df = pd.read_csv(file_path, sep='\\t')\n",
    "print(df.head())\n"
   ]
  },
  {
   "cell_type": "code",
   "execution_count": 6,
   "metadata": {},
   "outputs": [],
   "source": [
    "df_selected = df[['PRIMARYTITLE', 'DIRECTOR', 'CAST', 'GENRES', 'STARTYEAR']] # vybrání sloupců"
   ]
  },
  {
   "cell_type": "code",
   "execution_count": 7,
   "metadata": {},
   "outputs": [],
   "source": [
    "# Funkce pro výpočet dekády\n",
    "def get_decade(year):\n",
    "    if pd.isna(year):  # Pokud rok není dostupný\n",
    "        return None\n",
    "    return (int(year) // 10) * 10 # funkce vydělí rok deseti a použije celé dělení (dvě lomítka //). Celé dělení odstraní desetinnou část a vrátí celé číslo, které se vynásobí 10 a získá se dekáda."
   ]
  },
  {
   "cell_type": "code",
   "execution_count": 8,
   "metadata": {},
   "outputs": [],
   "source": [
    "# Převod dat do seznamu slovníků\n",
    "movies_list = []\n",
    "for _, row in df_selected.iterrows(): # funkce iterrows iteruje přes každý řádek\n",
    "    movie = {\n",
    "        'title': row['PRIMARYTITLE'],\n",
    "        'directors': [d.strip() for d in row['DIRECTOR'].split(',')] if pd.notna(row['DIRECTOR']) else [],\n",
    "        'cast': [c.strip() for c in row['CAST'].split(',')] if pd.notna(row['CAST']) else [],\n",
    "        'genres': [g.strip() for g in row['GENRES'].split(',')] if pd.notna(row['GENRES']) else [],\n",
    "        'decade': get_decade(row['STARTYEAR'])\n",
    "    }\n",
    "    movies_list.append(movie)"
   ]
  },
  {
   "cell_type": "code",
   "execution_count": 9,
   "metadata": {},
   "outputs": [],
   "source": [
    "# Uložení do JSON souboru\n",
    "output_file = 'hw02_output.json'\n",
    "with open(output_file, 'w', encoding='utf-8') as f:\n",
    "    json.dump(movies_list, f, indent=4, ensure_ascii=False) # indent=4 je odsazení o 4 mezery\n"
   ]
  }
 ],
 "metadata": {
  "kernelspec": {
   "display_name": "Python 3",
   "language": "python",
   "name": "python3"
  },
  "language_info": {
   "codemirror_mode": {
    "name": "ipython",
    "version": 3
   },
   "file_extension": ".py",
   "mimetype": "text/x-python",
   "name": "python",
   "nbconvert_exporter": "python",
   "pygments_lexer": "ipython3",
   "version": "3.12.5"
  }
 },
 "nbformat": 4,
 "nbformat_minor": 2
}
